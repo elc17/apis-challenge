{
 "cells": [
  {
   "cell_type": "markdown",
   "metadata": {},
   "source": [
    "# VacationPy\n",
    "----\n",
    "\n",
    "#### Note\n",
    "* Instructions have been included for each segment. You do not have to follow them exactly, but they are included to help you think through the steps."
   ]
  },
  {
   "cell_type": "code",
   "execution_count": 31,
   "metadata": {},
   "outputs": [],
   "source": [
    "# Dependencies and Setup\n",
    "import matplotlib.pyplot as plt\n",
    "import pandas as pd\n",
    "import numpy as np\n",
    "import requests\n",
    "import gmaps\n",
    "import os\n",
    "import json\n",
    "\n",
    "# Import API key\n",
    "from api_keys import g_key"
   ]
  },
  {
   "cell_type": "markdown",
   "metadata": {},
   "source": [
    "### Store Part I results into DataFrame\n",
    "* Load the csv exported in Part I to a DataFrame"
   ]
  },
  {
   "cell_type": "code",
   "execution_count": 32,
   "metadata": {},
   "outputs": [
    {
     "data": {
      "text/html": [
       "<div>\n",
       "<style scoped>\n",
       "    .dataframe tbody tr th:only-of-type {\n",
       "        vertical-align: middle;\n",
       "    }\n",
       "\n",
       "    .dataframe tbody tr th {\n",
       "        vertical-align: top;\n",
       "    }\n",
       "\n",
       "    .dataframe thead th {\n",
       "        text-align: right;\n",
       "    }\n",
       "</style>\n",
       "<table border=\"1\" class=\"dataframe\">\n",
       "  <thead>\n",
       "    <tr style=\"text-align: right;\">\n",
       "      <th></th>\n",
       "      <th>City</th>\n",
       "      <th>Cloudiness</th>\n",
       "      <th>Country</th>\n",
       "      <th>Date</th>\n",
       "      <th>Humidity</th>\n",
       "      <th>Lat</th>\n",
       "      <th>Lng</th>\n",
       "      <th>Max Temp</th>\n",
       "      <th>Wind Speed</th>\n",
       "    </tr>\n",
       "  </thead>\n",
       "  <tbody>\n",
       "    <tr>\n",
       "      <td>0</td>\n",
       "      <td>uspenka</td>\n",
       "      <td>83</td>\n",
       "      <td>UA</td>\n",
       "      <td>1585616628</td>\n",
       "      <td>67</td>\n",
       "      <td>48.39</td>\n",
       "      <td>39.16</td>\n",
       "      <td>10.22</td>\n",
       "      <td>3.85</td>\n",
       "    </tr>\n",
       "    <tr>\n",
       "      <td>1</td>\n",
       "      <td>hobart</td>\n",
       "      <td>40</td>\n",
       "      <td>AU</td>\n",
       "      <td>1585616628</td>\n",
       "      <td>48</td>\n",
       "      <td>-42.88</td>\n",
       "      <td>147.33</td>\n",
       "      <td>17.00</td>\n",
       "      <td>4.60</td>\n",
       "    </tr>\n",
       "    <tr>\n",
       "      <td>2</td>\n",
       "      <td>norman wells</td>\n",
       "      <td>20</td>\n",
       "      <td>CA</td>\n",
       "      <td>1585616498</td>\n",
       "      <td>45</td>\n",
       "      <td>65.28</td>\n",
       "      <td>-126.83</td>\n",
       "      <td>-15.00</td>\n",
       "      <td>3.10</td>\n",
       "    </tr>\n",
       "    <tr>\n",
       "      <td>3</td>\n",
       "      <td>albany</td>\n",
       "      <td>90</td>\n",
       "      <td>US</td>\n",
       "      <td>1585616629</td>\n",
       "      <td>75</td>\n",
       "      <td>42.60</td>\n",
       "      <td>-73.97</td>\n",
       "      <td>7.00</td>\n",
       "      <td>0.67</td>\n",
       "    </tr>\n",
       "    <tr>\n",
       "      <td>4</td>\n",
       "      <td>georgetown</td>\n",
       "      <td>20</td>\n",
       "      <td>MY</td>\n",
       "      <td>1585616464</td>\n",
       "      <td>88</td>\n",
       "      <td>5.41</td>\n",
       "      <td>100.34</td>\n",
       "      <td>28.00</td>\n",
       "      <td>2.46</td>\n",
       "    </tr>\n",
       "  </tbody>\n",
       "</table>\n",
       "</div>"
      ],
      "text/plain": [
       "           City  Cloudiness Country        Date  Humidity    Lat     Lng  \\\n",
       "0       uspenka          83      UA  1585616628        67  48.39   39.16   \n",
       "1        hobart          40      AU  1585616628        48 -42.88  147.33   \n",
       "2  norman wells          20      CA  1585616498        45  65.28 -126.83   \n",
       "3        albany          90      US  1585616629        75  42.60  -73.97   \n",
       "4    georgetown          20      MY  1585616464        88   5.41  100.34   \n",
       "\n",
       "   Max Temp  Wind Speed  \n",
       "0     10.22        3.85  \n",
       "1     17.00        4.60  \n",
       "2    -15.00        3.10  \n",
       "3      7.00        0.67  \n",
       "4     28.00        2.46  "
      ]
     },
     "execution_count": 32,
     "metadata": {},
     "output_type": "execute_result"
    }
   ],
   "source": [
    "# Read the .csv file, create a DataFrame and display the first 5 rows\n",
    "data_df = pd.read_csv(\"cities.csv\")\n",
    "data_df.head()"
   ]
  },
  {
   "cell_type": "markdown",
   "metadata": {},
   "source": [
    "### Humidity Heatmap\n",
    "* Configure gmaps.\n",
    "* Use the Lat and Lng as locations and Humidity as the weight.\n",
    "* Add Heatmap layer to map."
   ]
  },
  {
   "cell_type": "code",
   "execution_count": 33,
   "metadata": {},
   "outputs": [],
   "source": [
    "# Data configuration\n",
    "locations = data_df[[\"Lat\", \"Lng\"]]\n",
    "humidity = data_df[\"Humidity\"].astype(float)\n",
    "\n",
    "# Get the maximum Humidity value to set as the \"hottest\" zone in the heatmap\n",
    "max_int = data_df[\"Humidity\"].astype(float).max()"
   ]
  },
  {
   "cell_type": "code",
   "execution_count": 34,
   "metadata": {},
   "outputs": [
    {
     "data": {
      "application/vnd.jupyter.widget-view+json": {
       "model_id": "bf684af9f0cb4b0cbb626e41a67bb147",
       "version_major": 2,
       "version_minor": 0
      },
      "text/plain": [
       "Figure(layout=FigureLayout(height='420px'))"
      ]
     },
     "metadata": {},
     "output_type": "display_data"
    }
   ],
   "source": [
    "# Plot Humidity heatmap\n",
    "fig = gmaps.figure()\n",
    "\n",
    "# Create a heat layer\n",
    "heat_l = gmaps.heatmap_layer(locations, weights = humidity, max_intensity = max_int, point_radius = 8)\n",
    "\n",
    "# Add the heat layer\n",
    "fig.add_layer(heat_l)\n",
    "\n",
    "# Display the plot\n",
    "fig"
   ]
  },
  {
   "cell_type": "markdown",
   "metadata": {},
   "source": [
    "### Create new DataFrame fitting weather criteria\n",
    "* Narrow down the cities to fit weather conditions.\n",
    "* Drop any rows will null values."
   ]
  },
  {
   "cell_type": "code",
   "execution_count": 35,
   "metadata": {},
   "outputs": [
    {
     "name": "stdout",
     "output_type": "stream",
     "text": [
      "<class 'pandas.core.frame.DataFrame'>\n",
      "Int64Index: 25 entries, 7 to 547\n",
      "Data columns (total 6 columns):\n",
      "City        25 non-null object\n",
      "Country     25 non-null object\n",
      "Lat         25 non-null float64\n",
      "Lng         25 non-null float64\n",
      "Humidity    25 non-null int64\n",
      "Max Temp    25 non-null float64\n",
      "dtypes: float64(3), int64(1), object(2)\n",
      "memory usage: 1.4+ KB\n"
     ]
    }
   ],
   "source": [
    "# Reduce the DataFrame to ideal conditions, humidity between 20% and 50%, maximum temperature between 20 (exclusive) and 30\n",
    "fav_df = data_df[data_df[\"Humidity\"] <= 50][[\"City\", \"Country\", \"Lat\", \"Lng\", \"Humidity\", \"Max Temp\"]]\n",
    "fav_df = fav_df[fav_df[\"Humidity\"] >= 20][[\"City\", \"Country\", \"Lat\", \"Lng\", \"Humidity\", \"Max Temp\"]]\n",
    "fav_df = fav_df[fav_df[\"Max Temp\"] <= 30][[\"City\", \"Country\", \"Lat\", \"Lng\", \"Humidity\", \"Max Temp\"]]\n",
    "hotel_df = fav_df[fav_df[\"Max Temp\"] > 20][[\"City\", \"Country\", \"Lat\", \"Lng\", \"Humidity\", \"Max Temp\"]]\n",
    "hotel_df = hotel_df.dropna()\n",
    "hotel_df.info()"
   ]
  },
  {
   "cell_type": "markdown",
   "metadata": {},
   "source": [
    "### Hotel Map\n",
    "* Store into variable named `hotel_df`.\n",
    "* Add a \"Hotel Name\" column to the DataFrame.\n",
    "* Set parameters to search for hotels with 5000 meters.\n",
    "* Hit the Google Places API for each city's coordinates.\n",
    "* Store the first Hotel result into the DataFrame.\n",
    "* Plot markers on top of the heatmap."
   ]
  },
  {
   "cell_type": "code",
   "execution_count": 36,
   "metadata": {},
   "outputs": [
    {
     "name": "stdout",
     "output_type": "stream",
     "text": [
      "Hotel found in samdari\n",
      "Hotel found in guerrero negro\n",
      "Hotel found in khategaon\n",
      "Hotel found in ratanpur\n",
      "Hotel found in cabo san lucas\n",
      "No hotel found in avera\n",
      "No hotel found in nokaneng\n",
      "Hotel found in umm lajj\n",
      "Hotel found in garwa\n",
      "Hotel found in bo phloi\n",
      "No hotel found in nioro\n",
      "Hotel found in kapoeta\n",
      "Hotel found in tignere\n",
      "Hotel found in aiken\n",
      "Hotel found in hurghada\n",
      "Hotel found in aswan\n",
      "No hotel found in marzuq\n",
      "Hotel found in havelock\n",
      "Hotel found in mecca\n",
      "Hotel found in bhikangaon\n",
      "Hotel found in columbia\n",
      "Hotel found in leon\n",
      "Hotel found in parkes\n",
      "Hotel found in suleja\n",
      "Hotel found in saraipali\n"
     ]
    }
   ],
   "source": [
    "# New column for hotel names\n",
    "hotel_df[\"Hotel Name\"] = \"\"\n",
    "\n",
    "# Search parameters for the API calls\n",
    "params = {\"radius\":5000,\n",
    "          \"types\":\"lodging\",\n",
    "          \"key\":g_key}\n",
    "\n",
    "# Url for the google maps API\n",
    "url = \"https://maps.googleapis.com/maps/api/place/nearbysearch/json\"\n",
    "\n",
    "# Use the Lat and Lng to retrieve the hotel information\n",
    "for index, row in hotel_df.iterrows():\n",
    "    \n",
    "    # Get the current Lat and Lng\n",
    "    lat = row[\"Lat\"]\n",
    "    lng = row[\"Lng\"]\n",
    "    \n",
    "    # Set the current location\n",
    "    params[\"location\"] = f'{lat}, {lng}'\n",
    "    \n",
    "    # API call (request) using the url and the parameters\n",
    "    hotel_data = requests.get(url, params=params).json()\n",
    "    \n",
    "    # Try code to prevent crashes\n",
    "    try:\n",
    "        \n",
    "        # Set variable to retrieve the name of the first hotel\n",
    "        name = hotel_data[\"results\"][0][\"name\"]\n",
    "        \n",
    "        # Add the hotel name to its corresponding row\n",
    "        hotel_df.loc[index, \"Hotel Name\"] = name\n",
    "        \n",
    "        # Print a log confirming the hotel was found in that city\n",
    "        print(f'Hotel found in {row[\"City\"]}')\n",
    "    \n",
    "    # Add exceptions if the hotel can't be found (to prevent crashes)\n",
    "    except:\n",
    "              \n",
    "        # Print a log to let the user know no hotel was found in that city\n",
    "        print(f'No hotel found in {row[\"City\"]}')\n",
    "\n",
    "# Código de prueba para narrow down a solo hoteles              \n",
    "#     for i in range(len(hotel_data[\"results\"])):\n",
    "#         name = hotel_data[\"results\"][i][\"name\"]\n",
    "#         hotel_l = name.lower()\n",
    "#         if \"hotel\" in hotel_l != 0:\n",
    "#             #print(name)\n",
    "#             hotel_df.loc[index, \"Hotel Name\"] = name\n",
    "#             break\n",
    "\n",
    "# Print a cleaner response\n",
    "# print(json.dumps(hotel_data, indent=4, sort_keys=True))"
   ]
  },
  {
   "cell_type": "code",
   "execution_count": 37,
   "metadata": {},
   "outputs": [
    {
     "data": {
      "text/html": [
       "<div>\n",
       "<style scoped>\n",
       "    .dataframe tbody tr th:only-of-type {\n",
       "        vertical-align: middle;\n",
       "    }\n",
       "\n",
       "    .dataframe tbody tr th {\n",
       "        vertical-align: top;\n",
       "    }\n",
       "\n",
       "    .dataframe thead th {\n",
       "        text-align: right;\n",
       "    }\n",
       "</style>\n",
       "<table border=\"1\" class=\"dataframe\">\n",
       "  <thead>\n",
       "    <tr style=\"text-align: right;\">\n",
       "      <th></th>\n",
       "      <th>City</th>\n",
       "      <th>Country</th>\n",
       "      <th>Lat</th>\n",
       "      <th>Lng</th>\n",
       "      <th>Humidity</th>\n",
       "      <th>Max Temp</th>\n",
       "      <th>Hotel Name</th>\n",
       "    </tr>\n",
       "  </thead>\n",
       "  <tbody>\n",
       "    <tr>\n",
       "      <td>7</td>\n",
       "      <td>samdari</td>\n",
       "      <td>IN</td>\n",
       "      <td>25.82</td>\n",
       "      <td>72.58</td>\n",
       "      <td>27</td>\n",
       "      <td>24.21</td>\n",
       "      <td>Karnoba Ki Dhani</td>\n",
       "    </tr>\n",
       "    <tr>\n",
       "      <td>41</td>\n",
       "      <td>guerrero negro</td>\n",
       "      <td>MX</td>\n",
       "      <td>27.98</td>\n",
       "      <td>-114.06</td>\n",
       "      <td>32</td>\n",
       "      <td>23.27</td>\n",
       "      <td>Casa Laguna, Bed &amp; Breakfast</td>\n",
       "    </tr>\n",
       "    <tr>\n",
       "      <td>132</td>\n",
       "      <td>khategaon</td>\n",
       "      <td>IN</td>\n",
       "      <td>22.60</td>\n",
       "      <td>76.92</td>\n",
       "      <td>42</td>\n",
       "      <td>25.60</td>\n",
       "      <td>savariya Lodge</td>\n",
       "    </tr>\n",
       "    <tr>\n",
       "      <td>134</td>\n",
       "      <td>ratanpur</td>\n",
       "      <td>IN</td>\n",
       "      <td>22.30</td>\n",
       "      <td>82.17</td>\n",
       "      <td>27</td>\n",
       "      <td>23.06</td>\n",
       "      <td>Mahamaya lodge &amp; Mangal Bhawan</td>\n",
       "    </tr>\n",
       "    <tr>\n",
       "      <td>138</td>\n",
       "      <td>cabo san lucas</td>\n",
       "      <td>MX</td>\n",
       "      <td>22.89</td>\n",
       "      <td>-109.91</td>\n",
       "      <td>38</td>\n",
       "      <td>28.00</td>\n",
       "      <td>Hotel Tesoro Los Cabos</td>\n",
       "    </tr>\n",
       "  </tbody>\n",
       "</table>\n",
       "</div>"
      ],
      "text/plain": [
       "               City Country    Lat     Lng  Humidity  Max Temp  \\\n",
       "7           samdari      IN  25.82   72.58        27     24.21   \n",
       "41   guerrero negro      MX  27.98 -114.06        32     23.27   \n",
       "132       khategaon      IN  22.60   76.92        42     25.60   \n",
       "134        ratanpur      IN  22.30   82.17        27     23.06   \n",
       "138  cabo san lucas      MX  22.89 -109.91        38     28.00   \n",
       "\n",
       "                         Hotel Name  \n",
       "7                  Karnoba Ki Dhani  \n",
       "41     Casa Laguna, Bed & Breakfast  \n",
       "132                  savariya Lodge  \n",
       "134  Mahamaya lodge & Mangal Bhawan  \n",
       "138          Hotel Tesoro Los Cabos  "
      ]
     },
     "execution_count": 37,
     "metadata": {},
     "output_type": "execute_result"
    }
   ],
   "source": [
    "# Drop the DF row without Hotel and display the first 5 rows\n",
    "drop_rows = hotel_df[ hotel_df['Hotel Name'] == \"\" ].index\n",
    "hotel_df = hotel_df.drop(drop_rows, axis = 0)\n",
    "hotel_df.head()"
   ]
  },
  {
   "cell_type": "code",
   "execution_count": 38,
   "metadata": {},
   "outputs": [],
   "source": [
    "# NOTE: Do not change any of the code in this cell\n",
    "\n",
    "# Using the template add the hotel marks to the heatmap\n",
    "info_box_template = \"\"\"\n",
    "<dl>\n",
    "<dt>Name</dt><dd>{Hotel Name}</dd>\n",
    "<dt>City</dt><dd>{City}</dd>\n",
    "<dt>Country</dt><dd>{Country}</dd>\n",
    "</dl>\n",
    "\"\"\"\n",
    "# Store the DataFrame Row\n",
    "# NOTE: be sure to update with your DataFrame name\n",
    "hotel_info = [info_box_template.format(**row) for index, row in hotel_df.iterrows()]\n",
    "locations = hotel_df[[\"Lat\", \"Lng\"]]"
   ]
  },
  {
   "cell_type": "code",
   "execution_count": 39,
   "metadata": {},
   "outputs": [
    {
     "data": {
      "application/vnd.jupyter.widget-view+json": {
       "model_id": "bf684af9f0cb4b0cbb626e41a67bb147",
       "version_major": 2,
       "version_minor": 0
      },
      "text/plain": [
       "Figure(layout=FigureLayout(height='420px'))"
      ]
     },
     "metadata": {},
     "output_type": "display_data"
    }
   ],
   "source": [
    "# Add marker layer ontop of heat map\n",
    "# Stroke is the outer part of the symbol and fill is the inner part\n",
    "hotel_layer = gmaps.symbol_layer(locations, fill_color = \"white\", fill_opacity = 0.8, stroke_color = \"white\", stroke_opacity = 0.1, info_box_content = hotel_info)\n",
    "\n",
    "# Add the layer to the previous heatmap\n",
    "fig.add_layer(hotel_layer)\n",
    "\n",
    "# Display Map\n",
    "fig"
   ]
  },
  {
   "cell_type": "code",
   "execution_count": null,
   "metadata": {},
   "outputs": [],
   "source": []
  }
 ],
 "metadata": {
  "kernelspec": {
   "display_name": "Python 3",
   "language": "python",
   "name": "python3"
  },
  "language_info": {
   "codemirror_mode": {
    "name": "ipython",
    "version": 3
   },
   "file_extension": ".py",
   "mimetype": "text/x-python",
   "name": "python",
   "nbconvert_exporter": "python",
   "pygments_lexer": "ipython3",
   "version": "3.7.4"
  },
  "latex_envs": {
   "LaTeX_envs_menu_present": true,
   "autoclose": false,
   "autocomplete": true,
   "bibliofile": "biblio.bib",
   "cite_by": "apalike",
   "current_citInitial": 1,
   "eqLabelWithNumbers": true,
   "eqNumInitial": 1,
   "hotkeys": {
    "equation": "Ctrl-E",
    "itemize": "Ctrl-I"
   },
   "labels_anchors": false,
   "latex_user_defs": false,
   "report_style_numbering": false,
   "user_envs_cfg": false
  }
 },
 "nbformat": 4,
 "nbformat_minor": 2
}
